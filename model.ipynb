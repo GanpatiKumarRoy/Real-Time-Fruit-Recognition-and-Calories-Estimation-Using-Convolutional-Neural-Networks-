{
 "cells": [
  {
   "cell_type": "markdown",
   "id": "5d2b8724",
   "metadata": {},
   "source": [
    "#### Importing the libraries :-"
   ]
  },
  {
   "cell_type": "code",
   "execution_count": 1,
   "id": "eb1488ef",
   "metadata": {},
   "outputs": [
    {
     "name": "stdout",
     "output_type": "stream",
     "text": [
      "Module and Packages imported successfully.....!\n"
     ]
    }
   ],
   "source": [
    "import numpy as np\n",
    "import pandas as pd\n",
    "import matplotlib.pyplot as plt\n",
    "import glob\n",
    "import os\n",
    "\n",
    "import tensorflow as tf\n",
    "import keras\n",
    "from keras.models import Model\n",
    "from keras.layers import Flatten, Dense\n",
    "from keras.applications import VGG16\n",
    "\n",
    "from keras.preprocessing.image import ImageDataGenerator\n",
    "from keras.applications.vgg16 import preprocess_input\n",
    "\n",
    "import warnings\n",
    "warnings.filterwarnings(\"ignore\")\n",
    "print(\"Module and Packages imported successfully.....!\")"
   ]
  },
  {
   "cell_type": "markdown",
   "id": "eac939e1",
   "metadata": {},
   "source": [
    "#### Loading dataset :-"
   ]
  },
  {
   "cell_type": "code",
   "execution_count": 2,
   "id": "f7d59015",
   "metadata": {},
   "outputs": [],
   "source": [
    "train_dir = \"C:/Users/Ganpati Kumar Roy/College Work/IOT-Paper/Final Model/10 Class Fruit Image Dataset/Training/\"\n",
    "val_dir = \"C:/Users/Ganpati Kumar Roy/College Work/IOT-Paper/Final Model/10 Class Fruit Image Dataset/Validation/\""
   ]
  },
  {
   "cell_type": "markdown",
   "id": "9e11a055",
   "metadata": {},
   "source": [
    "#### Data reading :- "
   ]
  },
  {
   "cell_type": "code",
   "execution_count": 3,
   "id": "22e03a22",
   "metadata": {},
   "outputs": [],
   "source": [
    "def get_files(directory):\n",
    "  if not os.path.exists(directory):\n",
    "    return 0\n",
    "  count=0\n",
    "  for current_path,dirs,files in os.walk(directory):\n",
    "    for dr in dirs:\n",
    "      count+= len(glob.glob(os.path.join(current_path,dr+\"/*\")))\n",
    "  return count    "
   ]
  },
  {
   "cell_type": "code",
   "execution_count": 4,
   "id": "492bb544",
   "metadata": {},
   "outputs": [
    {
     "name": "stdout",
     "output_type": "stream",
     "text": [
      "Classes are :-  10\n",
      "Total train images :- 27439\n",
      "Total validation images :- 6845\n"
     ]
    }
   ],
   "source": [
    "train_samples =get_files(train_dir)\n",
    "num_classes=len(glob.glob(train_dir+\"/*\"))\n",
    "val_samples=get_files(val_dir) \n",
    "print(\"Classes are :- \", num_classes)\n",
    "print(\"Total train images :-\", train_samples)\n",
    "print(\"Total validation images :-\", val_samples)"
   ]
  },
  {
   "cell_type": "markdown",
   "id": "3bf4d523",
   "metadata": {},
   "source": [
    "#### Data Preprocessing"
   ]
  },
  {
   "cell_type": "code",
   "execution_count": 5,
   "id": "49fbd196",
   "metadata": {},
   "outputs": [],
   "source": [
    "train_datagen=ImageDataGenerator(rescale=1./255,\n",
    "                                   shear_range=0.2,\n",
    "                                   zoom_range=0.2,\n",
    "                                   validation_split=0.2, \n",
    "                                   horizontal_flip=True)\n",
    "\n",
    "validation_datagen=ImageDataGenerator(rescale=1./255,\n",
    "                                   shear_range=0.2,\n",
    "                                   zoom_range=0.2,\n",
    "                                   validation_split=0.2, \n",
    "                                   horizontal_flip=True)"
   ]
  },
  {
   "cell_type": "code",
   "execution_count": 6,
   "id": "37577d05",
   "metadata": {},
   "outputs": [
    {
     "name": "stdout",
     "output_type": "stream",
     "text": [
      "Found 27439 images belonging to 10 classes.\n",
      "Found 6845 images belonging to 10 classes.\n"
     ]
    }
   ],
   "source": [
    "img_width,img_height =256,256\n",
    "input_shape=(img_width,img_height,3)\n",
    "batch_size =32\n",
    "\n",
    "train_generator =train_datagen.flow_from_directory(train_dir,\n",
    "                                                   target_size=(img_width,img_height),\n",
    "                                                   batch_size=batch_size)\n",
    "validation_generator = validation_datagen.flow_from_directory(\n",
    "                                                    val_dir, \n",
    "                                                    target_size=(img_height, img_width),\n",
    "                                                    batch_size=batch_size) "
   ]
  },
  {
   "cell_type": "code",
   "execution_count": 7,
   "id": "25281d76",
   "metadata": {},
   "outputs": [
    {
     "data": {
      "text/plain": [
       "{'Apples': 0,\n",
       " 'Banana': 1,\n",
       " 'Guava': 2,\n",
       " 'Kiwi': 3,\n",
       " 'Mango': 4,\n",
       " 'Muskmelon': 5,\n",
       " 'Orange': 6,\n",
       " 'Peach': 7,\n",
       " 'Pear': 8,\n",
       " 'Pomegranate': 9}"
      ]
     },
     "execution_count": 7,
     "metadata": {},
     "output_type": "execute_result"
    }
   ],
   "source": [
    "train_generator.class_indices"
   ]
  },
  {
   "cell_type": "markdown",
   "id": "e05045a0",
   "metadata": {},
   "source": [
    "#### VGG-16 Parameter Building"
   ]
  },
  {
   "cell_type": "code",
   "execution_count": 8,
   "id": "b9366290",
   "metadata": {},
   "outputs": [
    {
     "name": "stdout",
     "output_type": "stream",
     "text": [
      "Model: \"functional_1\"\n",
      "_________________________________________________________________\n",
      "Layer (type)                 Output Shape              Param #   \n",
      "=================================================================\n",
      "input_1 (InputLayer)         [(None, 256, 256, 3)]     0         \n",
      "_________________________________________________________________\n",
      "block1_conv1 (Conv2D)        (None, 256, 256, 64)      1792      \n",
      "_________________________________________________________________\n",
      "block1_conv2 (Conv2D)        (None, 256, 256, 64)      36928     \n",
      "_________________________________________________________________\n",
      "block1_pool (MaxPooling2D)   (None, 128, 128, 64)      0         \n",
      "_________________________________________________________________\n",
      "block2_conv1 (Conv2D)        (None, 128, 128, 128)     73856     \n",
      "_________________________________________________________________\n",
      "block2_conv2 (Conv2D)        (None, 128, 128, 128)     147584    \n",
      "_________________________________________________________________\n",
      "block2_pool (MaxPooling2D)   (None, 64, 64, 128)       0         \n",
      "_________________________________________________________________\n",
      "block3_conv1 (Conv2D)        (None, 64, 64, 256)       295168    \n",
      "_________________________________________________________________\n",
      "block3_conv2 (Conv2D)        (None, 64, 64, 256)       590080    \n",
      "_________________________________________________________________\n",
      "block3_conv3 (Conv2D)        (None, 64, 64, 256)       590080    \n",
      "_________________________________________________________________\n",
      "block3_pool (MaxPooling2D)   (None, 32, 32, 256)       0         \n",
      "_________________________________________________________________\n",
      "block4_conv1 (Conv2D)        (None, 32, 32, 512)       1180160   \n",
      "_________________________________________________________________\n",
      "block4_conv2 (Conv2D)        (None, 32, 32, 512)       2359808   \n",
      "_________________________________________________________________\n",
      "block4_conv3 (Conv2D)        (None, 32, 32, 512)       2359808   \n",
      "_________________________________________________________________\n",
      "block4_pool (MaxPooling2D)   (None, 16, 16, 512)       0         \n",
      "_________________________________________________________________\n",
      "block5_conv1 (Conv2D)        (None, 16, 16, 512)       2359808   \n",
      "_________________________________________________________________\n",
      "block5_conv2 (Conv2D)        (None, 16, 16, 512)       2359808   \n",
      "_________________________________________________________________\n",
      "block5_conv3 (Conv2D)        (None, 16, 16, 512)       2359808   \n",
      "_________________________________________________________________\n",
      "block5_pool (MaxPooling2D)   (None, 8, 8, 512)         0         \n",
      "_________________________________________________________________\n",
      "flatten (Flatten)            (None, 32768)             0         \n",
      "_________________________________________________________________\n",
      "dense (Dense)                (None, 10)                327690    \n",
      "=================================================================\n",
      "Total params: 15,042,378\n",
      "Trainable params: 327,690\n",
      "Non-trainable params: 14,714,688\n",
      "_________________________________________________________________\n"
     ]
    }
   ],
   "source": [
    "vgg = VGG16(input_shape=(256,256,3), weights = 'imagenet', include_top = False)\n",
    "for layer in vgg.layers:\n",
    "    layer.trainable = False\n",
    "\n",
    "x = Flatten()(vgg.output)\n",
    "x = Dense(num_classes, activation = 'softmax')(x)\n",
    "model = Model(inputs = vgg.input, outputs = x)\n",
    "\n",
    "model.summary()"
   ]
  },
  {
   "cell_type": "code",
   "execution_count": 9,
   "id": "133edd31",
   "metadata": {},
   "outputs": [
    {
     "name": "stdout",
     "output_type": "stream",
     "text": [
      "Epoch 1/10\n",
      "857/857 [==============================] - 6682s 8s/step - loss: 0.2823 - accuracy: 0.9138 - recall: 0.8924 - val_loss: 1.7447 - val_accuracy: 0.6703 - val_recall: 0.6508\n",
      "Epoch 2/10\n",
      "857/857 [==============================] - 6540s 8s/step - loss: 0.1037 - accuracy: 0.9665 - recall: 0.9628 - val_loss: 1.4688 - val_accuracy: 0.7366 - val_recall: 0.7287\n",
      "Epoch 3/10\n",
      "857/857 [==============================] - 6435s 8s/step - loss: 0.1099 - accuracy: 0.9671 - recall: 0.9653 - val_loss: 2.2241 - val_accuracy: 0.6901 - val_recall: 0.6852\n",
      "Epoch 4/10\n",
      "857/857 [==============================] - 6593s 8s/step - loss: 0.1015 - accuracy: 0.9712 - recall: 0.9706 - val_loss: 1.8195 - val_accuracy: 0.7202 - val_recall: 0.7158\n",
      "Epoch 5/10\n",
      "857/857 [==============================] - 6938s 8s/step - loss: 0.0805 - accuracy: 0.9764 - recall: 0.9757 - val_loss: 2.2172 - val_accuracy: 0.7242 - val_recall: 0.7207\n",
      "Epoch 6/10\n",
      "857/857 [==============================] - 6730s 8s/step - loss: 0.0726 - accuracy: 0.9810 - recall: 0.9806 - val_loss: 4.4218 - val_accuracy: 0.6341 - val_recall: 0.6332\n",
      "Epoch 7/10\n",
      "857/857 [==============================] - 6538s 8s/step - loss: 0.0844 - accuracy: 0.9790 - recall: 0.9788 - val_loss: 2.7481 - val_accuracy: 0.7320 - val_recall: 0.7305\n",
      "Epoch 8/10\n",
      "857/857 [==============================] - 6334s 7s/step - loss: 0.0828 - accuracy: 0.9790 - recall: 0.9786 - val_loss: 3.0089 - val_accuracy: 0.7066 - val_recall: 0.7055\n",
      "Epoch 9/10\n",
      "857/857 [==============================] - 6328s 7s/step - loss: 0.0740 - accuracy: 0.9833 - recall: 0.9831 - val_loss: 2.6097 - val_accuracy: 0.7785 - val_recall: 0.7773\n",
      "Epoch 10/10\n",
      "857/857 [==============================] - 6283s 7s/step - loss: 0.0517 - accuracy: 0.9871 - recall: 0.9869 - val_loss: 4.5891 - val_accuracy: 0.7063 - val_recall: 0.7058\n"
     ]
    }
   ],
   "source": [
    "opt=keras.optimizers.Adam(lr=0.001)\n",
    "model.compile(optimizer=opt,loss='categorical_crossentropy',metrics=['accuracy','Recall'])\n",
    "train=model.fit(train_generator,\n",
    "                          epochs=10,\n",
    "                          steps_per_epoch=train_generator.samples // batch_size,\n",
    "                          validation_data=validation_generator,\n",
    "                          validation_steps= validation_generator.samples // batch_size,\n",
    "                          verbose=1)"
   ]
  },
  {
   "cell_type": "markdown",
   "id": "f2dc70a1",
   "metadata": {},
   "source": [
    "#### Model Save :-"
   ]
  },
  {
   "cell_type": "code",
   "execution_count": 10,
   "id": "e05176af",
   "metadata": {},
   "outputs": [],
   "source": [
    "from tensorflow.keras.models import load_model\n",
    "model.save('GV-VGG16.h5')"
   ]
  },
  {
   "cell_type": "markdown",
   "id": "78f5d68a",
   "metadata": {},
   "source": [
    "#### Accuracy Graph :-"
   ]
  },
  {
   "cell_type": "code",
   "execution_count": 11,
   "id": "4b649171",
   "metadata": {},
   "outputs": [
    {
     "data": {
      "text/plain": [
       "{'loss': [0.28234532475471497,\n",
       "  0.10371973365545273,\n",
       "  0.10986460000276566,\n",
       "  0.10145355015993118,\n",
       "  0.08052337914705276,\n",
       "  0.07262472063302994,\n",
       "  0.08441145718097687,\n",
       "  0.0827876627445221,\n",
       "  0.07398587465286255,\n",
       "  0.0517292395234108],\n",
       " 'accuracy': [0.9138176441192627,\n",
       "  0.9664683938026428,\n",
       "  0.9670522212982178,\n",
       "  0.971248209476471,\n",
       "  0.9763928651809692,\n",
       "  0.9810267686843872,\n",
       "  0.978983461856842,\n",
       "  0.9790199398994446,\n",
       "  0.9833254218101501,\n",
       "  0.9871200919151306],\n",
       " 'recall': [0.8923632502555847,\n",
       "  0.9628196954727173,\n",
       "  0.9652643203735352,\n",
       "  0.9705549478530884,\n",
       "  0.9756996631622314,\n",
       "  0.9806253910064697,\n",
       "  0.978764533996582,\n",
       "  0.9785821437835693,\n",
       "  0.9831429719924927,\n",
       "  0.9869011640548706],\n",
       " 'val_loss': [1.7447317838668823,\n",
       "  1.468826174736023,\n",
       "  2.224071741104126,\n",
       "  1.8195216655731201,\n",
       "  2.2172462940216064,\n",
       "  4.4217634201049805,\n",
       "  2.748133659362793,\n",
       "  3.0089449882507324,\n",
       "  2.609715700149536,\n",
       "  4.589061737060547],\n",
       " 'val_accuracy': [0.67033451795578,\n",
       "  0.7366490364074707,\n",
       "  0.6901408433914185,\n",
       "  0.7202171087265015,\n",
       "  0.7241784334182739,\n",
       "  0.6340962648391724,\n",
       "  0.7319542169570923,\n",
       "  0.7065727710723877,\n",
       "  0.7784624695777893,\n",
       "  0.7062793374061584],\n",
       " 'val_recall': [0.6508215665817261,\n",
       "  0.7287265062332153,\n",
       "  0.6851525902748108,\n",
       "  0.7158157229423523,\n",
       "  0.7206572890281677,\n",
       "  0.6332159638404846,\n",
       "  0.7304871082305908,\n",
       "  0.7055457830429077,\n",
       "  0.7772887349128723,\n",
       "  0.705839216709137]}"
      ]
     },
     "execution_count": 11,
     "metadata": {},
     "output_type": "execute_result"
    }
   ],
   "source": [
    "train.history"
   ]
  },
  {
   "cell_type": "code",
   "execution_count": 12,
   "id": "d95b4505",
   "metadata": {},
   "outputs": [
    {
     "data": {
      "image/png": "[encoded data removed]",
      "text/plain": [
       "<Figure size 432x288 with 1 Axes>"
      ]
     },
     "metadata": {
      "needs_background": "light"
     },
     "output_type": "display_data"
    },
    {
     "data": {
      "image/png": "[encoded data removed]",
      "text/plain": [
       "<Figure size 432x288 with 1 Axes>"
      ]
     },
     "metadata": {
      "needs_background": "light"
     },
     "output_type": "display_data"
    }
   ],
   "source": [
    "def plot_accuracy(train,title):\n",
    "    plt.title(title)\n",
    "    plt.plot(train.history['accuracy']) \n",
    "    plt.plot(train.history['val_accuracy']) \n",
    "    plt.ylabel('accuracy')\n",
    "    plt.xlabel('epoch')\n",
    "    plt.legend(['train_accuracy', 'validation_accuracy'], loc='best')\n",
    "    plt.show()\n",
    "    \n",
    "def plot_loss(train,title):\n",
    "    plt.title(title)\n",
    "    plt.plot(train.history['loss'])\n",
    "    plt.plot(train.history['val_loss'])\n",
    "    plt.ylabel('loss')\n",
    "    plt.xlabel('epoch')\n",
    "    plt.legend(['train_loss', 'validation_loss'], loc='best')\n",
    "    plt.show()\n",
    "\n",
    "    \n",
    "plot_accuracy(train,'Training and Validation Accuracy')\n",
    "plot_loss(train,'Training and Validation Loss')"
   ]
  },
  {
   "cell_type": "markdown",
   "id": "27b2c056",
   "metadata": {},
   "source": [
    "#### Confusion Matrix :-"
   ]
  },
  {
   "cell_type": "markdown",
   "id": "49b324ab",
   "metadata": {},
   "source": [
    "##### Training :-"
   ]
  },
  {
   "cell_type": "code",
   "execution_count": 13,
   "id": "95b0b421",
   "metadata": {},
   "outputs": [
    {
     "name": "stdout",
     "output_type": "stream",
     "text": [
      "WARNING:tensorflow:From <ipython-input-13-073f9642b794>:2: Model.predict_generator (from tensorflow.python.keras.engine.training) is deprecated and will be removed in a future version.\n",
      "Instructions for updating:\n",
      "Please use Model.predict, which supports generators.\n"
     ]
    }
   ],
   "source": [
    "# train_generator.reset()\n",
    "predictions = model.predict_generator(generator = train_generator)\n",
    "y_pred = [np.argmax(probas) for probas in predictions]\n",
    "y_test = train_generator.classes"
   ]
  },
  {
   "cell_type": "code",
   "execution_count": 14,
   "id": "e1793632",
   "metadata": {},
   "outputs": [],
   "source": [
    "labels_map = (train_generator.class_indices)\n",
    "labels = dict((v,k) for k,v in labels_map.items())\n",
    "predict = [labels[k] for k in y_pred]\n",
    "\n",
    "filenames = train_generator.filenames\n",
    "results = pd.DataFrame({\"Filename\":filenames,\"Predictions\":predict})"
   ]
  },
  {
   "cell_type": "code",
   "execution_count": 15,
   "id": "020f5e75",
   "metadata": {},
   "outputs": [],
   "source": [
    "from sklearn.metrics import confusion_matrix\n",
    "def plot_confusion_matrix(test_y,predict_y):\n",
    "    c = confusion_matrix(test_y, predict_y)\n",
    "    cmap = sns.light_palette(\"green\")\n",
    "    plt.figure(figsize=(10,4))\n",
    "    sns.heatmap(c, annot = True, cmap=cmap, fmt=\".1f\", xticklabels=labels, yticklabels=labels)\n",
    "    plt.xlabel('Predicted Class')\n",
    "    plt.ylabel('Original Class')\n",
    "    plt.show()"
   ]
  },
  {
   "cell_type": "code",
   "execution_count": 16,
   "id": "ccba6828",
   "metadata": {},
   "outputs": [
    {
     "data": {
      "image/png": "[encoded data removed]",
      "text/plain": [
       "<Figure size 720x288 with 2 Axes>"
      ]
     },
     "metadata": {
      "needs_background": "light"
     },
     "output_type": "display_data"
    }
   ],
   "source": [
    "import seaborn as sns\n",
    "plot_confusion_matrix(y_test, y_pred) "
   ]
  },
  {
   "cell_type": "code",
   "execution_count": null,
   "id": "9bdae0eb",
   "metadata": {},
   "outputs": [],
   "source": []
  },
  {
   "cell_type": "code",
   "execution_count": null,
   "id": "d55b3cd3",
   "metadata": {},
   "outputs": [],
   "source": []
  }
 ],
 "metadata": {
  "kernelspec": {
   "display_name": "Python 3",
   "language": "python",
   "name": "python3"
  },
  "language_info": {
   "codemirror_mode": {
    "name": "ipython",
    "version": 3
   },
   "file_extension": ".py",
   "mimetype": "text/x-python",
   "name": "python",
   "nbconvert_exporter": "python",
   "pygments_lexer": "ipython3",
   "version": "3.8.8"
  }
 },
 "nbformat": 4,
 "nbformat_minor": 5
}
